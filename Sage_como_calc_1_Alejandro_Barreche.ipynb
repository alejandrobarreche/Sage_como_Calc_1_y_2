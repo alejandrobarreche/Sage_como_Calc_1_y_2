{
 "cells": [
  {
   "cell_type": "code",
   "execution_count": 57,
   "metadata": {
    "collapsed": false
   },
   "outputs": [
    {
     "name": "stdout",
     "output_type": "stream",
     "text": [
      "Numero racional: 7/8 \n",
      "Aproximación decimal: 0.875000000000000\n"
     ]
    }
   ],
   "source": [
    "# Divide 28 por 2 elevado a la quinta potencia como número racional y obtén después su aproximación decimal\n",
    "\n",
    "a = 28/(2^5)  \n",
    "print(\"Numero racional:\",a, \"\\nAproximación decimal:\", a.n())"
   ]
  },
  {
   "cell_type": "code",
   "execution_count": 56,
   "metadata": {
    "collapsed": false
   },
   "outputs": [
    {
     "name": "stdout",
     "output_type": "stream",
     "text": [
      "Aproximación de la raiz cuadrada de 2:  1.41421356237310\n"
     ]
    }
   ],
   "source": [
    "# Obtén una aproximación decimal de raíz cuadrada de 2\n",
    "\n",
    "sqrt_2 = sqrt(2)    # Raiz cuadrada de 2\n",
    "print(\"Aproximación de la raiz cuadrada de 2: \",numerical_approx(sqrt_2))     # Aproximación de la raiz cuadrada de dos"
   ]
  },
  {
   "cell_type": "code",
   "execution_count": 55,
   "metadata": {
    "cocalc": {
     "outputs": {
      "0": {
       "name": "input",
       "opts": {
        "password": false,
        "prompt": "Dime un número: "
       },
       "output_type": "stream",
       "value": "4"
      }
     }
    },
    "collapsed": false
   },
   "outputs": [
    {
     "name": "stdout",
     "output_type": "stream",
     "text": [
      "Raiz cuadrada de menos 9:  3*I\n"
     ]
    }
   ],
   "source": [
    "# Calcula la raíz cuadrada de -9\n",
    "\n",
    "sqrt_menos_9 = sqrt(-9)    # Raiz cuadrada de menos 9\n",
    "print(\"Raiz cuadrada de menos 9: \",sqrt_menos_9)"
   ]
  },
  {
   "cell_type": "code",
   "execution_count": 60,
   "metadata": {
    "collapsed": false
   },
   "outputs": [
    {
     "name": "stdout",
     "output_type": "stream",
     "text": [
      "El logaritmo vale:  51.0\n"
     ]
    }
   ],
   "source": [
    "# Calcula el logaritmo en base 3 de 2153693963075557766310747 \n",
    "\n",
    "\n",
    "argumento = 2153693963075557766310747\n",
    "base = 3\n",
    "a = log(argumento, base)   # 'a' almacena el valor del logaritmo en base 3 de 2153693963075557766310747 \n",
    "print(\"El logaritmo vale: \", float(a))"
   ]
  },
  {
   "cell_type": "code",
   "execution_count": 3,
   "metadata": {
    "collapsed": false
   },
   "outputs": [
    {
     "name": "stdout",
     "output_type": "stream",
     "text": [
      "50 decimales del número e: 2.71828182845904523536028747135266249775724709369996\n"
     ]
    }
   ],
   "source": [
    "# Calcula las 50 primeras cifras decimales del número e\n",
    "\n",
    "parte_entera = len(str(round(e)))    # Parte entera del numero e\n",
    "print(\"50 decimales del número e:\",n(e , digits = 50 + parte_entera))"
   ]
  },
  {
   "cell_type": "code",
   "execution_count": 52,
   "metadata": {
    "collapsed": false
   },
   "outputs": [
    {
     "name": "stdout",
     "output_type": "stream",
     "text": [
      "80 cifras del número pi:  3.14159265358979323846264338327950288419716939937510582097494459230781640628620900\n"
     ]
    }
   ],
   "source": [
    "# Calcula las 80 primeras cifras decimales del número π\n",
    "\n",
    "parte_entera = len(str(round(pi)))   # Parte entera del numero pi\n",
    "print(\"80 cifras del número pi:\",n(pi, digits = 80 + parte_entera))"
   ]
  },
  {
   "cell_type": "code",
   "execution_count": 51,
   "metadata": {
    "collapsed": false
   },
   "outputs": [
    {
     "name": "stdout",
     "output_type": "stream",
     "text": [
      "El cociente es:  119 \n",
      "El resto es:  4\n"
     ]
    }
   ],
   "source": [
    "# Obtén el cociente y el resto de dividir 956 entre 98\n",
    "\n",
    "cociente = 956 // 8\n",
    "resto = 956 % 8\n",
    "\n",
    "print(\"El cociente es: \",cociente,\"\\nEl resto es: \", resto)"
   ]
  },
  {
   "cell_type": "code",
   "execution_count": 59,
   "metadata": {
    "collapsed": false
   },
   "outputs": [
    {
     "name": "stdout",
     "output_type": "stream",
     "text": [
      "Utilizando la prueba de Euclides, el cociente y el resto son correctos: True\n"
     ]
    }
   ],
   "source": [
    "# Comprueba que el cociente y el resto obtenidos en el apartado anterior son correctos con la prueba de Euclides\n",
    "\n",
    "dividendo = 956\n",
    "divisor = 8\n",
    "cociente = 956 // 8\n",
    "resto = 956 % 8\n",
    "\n",
    "print(\"Utilizando la prueba de Euclides, el cociente y el resto son correctos:\", dividendo == (cociente * divisor) + resto)"
   ]
  },
  {
   "cell_type": "code",
   "execution_count": 58,
   "metadata": {
    "collapsed": false
   },
   "outputs": [
    {
     "name": "stdout",
     "output_type": "stream",
     "text": [
      "¿El 3 divide al 234878?: False\n"
     ]
    }
   ],
   "source": [
    "# Determina si 3 divide 234878\n",
    "\n",
    "print(\"¿El 3 divide al 234878?:\", 234878 % 3 == 0)"
   ]
  },
  {
   "cell_type": "code",
   "execution_count": 46,
   "metadata": {
    "collapsed": false
   },
   "outputs": [
    {
     "name": "stdout",
     "output_type": "stream",
     "text": [
      "Los divisores de 134 son:  [1, 2, 67, 134]\n",
      "Los divisores de 491 son:  [1, 491]\n",
      "Los divisores de 422 son:  [1, 2, 211, 422]\n",
      "Los divisores de 1002 son:  [1, 2, 3, 6, 167, 334, 501, 1002]\n"
     ]
    }
   ],
   "source": [
    "# Calcula la lista de divisores de cada uno de los siguientes números enteros: 134, 491, 422 y 1002\n",
    "\n",
    "\n",
    "print(\"Los divisores de 134 son:\", divisors(134))\n",
    "print(\"Los divisores de 491 son:\", divisors(491))\n",
    "print(\"Los divisores de 422 son:\", divisors(422))\n",
    "print(\"Los divisores de 1002 son:\", divisors(1002))"
   ]
  },
  {
   "cell_type": "code",
   "execution_count": 47,
   "metadata": {
    "collapsed": false
   },
   "outputs": [
    {
     "name": "stdout",
     "output_type": "stream",
     "text": [
      "¿El número 134 es primo?: False\n",
      "¿El número 491 es primo?: True\n",
      "¿El número 422 es primo?: False\n",
      "¿El número 1002 es primo?: False\n"
     ]
    }
   ],
   "source": [
    "# De los enteros del ejercicio anterior, ¿cuáles son números primos?\n",
    "\n",
    "print(\"¿El número 134 es primo?:\", is_prime(134))\n",
    "print(\"¿El número 491 es primo?:\", is_prime(491))\n",
    "print(\"¿El número 422 es primo?:\", is_prime(422))\n",
    "print(\"¿El número 1002 es primo?:\", is_prime(1002))"
   ]
  },
  {
   "cell_type": "code",
   "execution_count": 49,
   "metadata": {
    "collapsed": false
   },
   "outputs": [
    {
     "name": "stdout",
     "output_type": "stream",
     "text": [
      "El máximo común divisor entre (2,5) es: 1 \n",
      "El mínimo común múltiplo entre (2,5) es: 10\n",
      "El máximo común divisor entre (4,10) es: 2 \n",
      "El mínimo común múltiplo entre (4,10) es: 20\n",
      "El máximo común divisor entre (18,51) es: 3 \n",
      "El mínimo común múltiplo entre (18,51) es: 306\n"
     ]
    }
   ],
   "source": [
    "# Calcula el máximo común divisor (mcd) y el mínimo común múltiple (mcm) para los pares de números enteros (2,5), (4,10) y (18, 51).\n",
    "\n",
    "print(\"El máximo común divisor entre (2,5) es:\", gcd(2,5),\"\\nEl mínimo común múltiplo entre (2,5) es:\", lcm(2,5))\n",
    "print(\"El máximo común divisor entre (4,10) es:\",gcd(4,10),\"\\nEl mínimo común múltiplo entre (4,10) es:\", lcm(4,10))\n",
    "print(\"El máximo común divisor entre (18,51) es:\",gcd(18,51),\"\\nEl mínimo común múltiplo entre (18,51) es:\", lcm(18,51))"
   ]
  },
  {
   "cell_type": "code",
   "execution_count": 0,
   "metadata": {
    "collapsed": false
   },
   "outputs": [
   ],
   "source": [
   ]
  }
 ],
 "metadata": {
  "kernelspec": {
   "argv": [
    "sage-10.1",
    "--python",
    "-m",
    "sage.repl.ipython_kernel",
    "--matplotlib=inline",
    "-f",
    "{connection_file}"
   ],
   "display_name": "SageMath 10.1",
   "env": {
   },
   "language": "sagemath",
   "metadata": {
    "cocalc": {
     "description": "Open-source mathematical software system",
     "priority": 10,
     "url": "https://www.sagemath.org/"
    }
   },
   "name": "sage-10.1",
   "resource_dir": "/ext/jupyter/kernels/sage-10.1"
  },
  "language_info": {
   "codemirror_mode": {
    "name": "ipython",
    "version": 3
   },
   "file_extension": ".py",
   "mimetype": "text/x-python",
   "name": "python",
   "nbconvert_exporter": "python",
   "pygments_lexer": "ipython3",
   "version": "3.11.1"
  }
 },
 "nbformat": 4,
 "nbformat_minor": 4
}