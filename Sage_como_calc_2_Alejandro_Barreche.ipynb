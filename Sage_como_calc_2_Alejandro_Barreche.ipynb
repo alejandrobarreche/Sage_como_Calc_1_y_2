{
 "cells": [
  {
   "cell_type": "code",
   "execution_count": 3,
   "metadata": {
    "collapsed": false
   },
   "outputs": [
    {
     "name": "stdout",
     "output_type": "stream",
     "text": [
      "El valor floor del número -3,56 es : -4 \n",
      "El valor ceil del número -3,56 es : -3\n"
     ]
    }
   ],
   "source": [
    "# Calcula el floor y el ceiling de -3.56\n",
    "\n",
    "\n",
    "num = -3.56\n",
    "valor_floor = floor(num)\n",
    "valor_ceil = ceil(num)\n",
    "print(\"El valor floor del número -3,56 es :\", valor_floor, \"\\nEl valor ceil del número -3,56 es :\", valor_ceil)\n"
   ]
  },
  {
   "cell_type": "code",
   "execution_count": 3,
   "metadata": {
    "collapsed": false
   },
   "outputs": [
    {
     "name": "stdout",
     "output_type": "stream",
     "text": [
      "El logaritmo uno vale: 2*log(10) (4.605170185988092)\n",
      "El logaritmo uno vale: 2 (2.0)\n",
      "El cociente del logaritmo 1 entre el logaritmo 2 es: log(10) (2.302585092994046)\n"
     ]
    }
   ],
   "source": [
    "# Calcula el logaritmo en base e de 100, calcula el logaritmo en base 10 de 100, después calcula el cociente. ¿Cual deberia ser el resultado?\n",
    "\n",
    "\n",
    "log1 = log(100, e)\n",
    "log2 = log(100, 10)\n",
    "cociente = log1 / log2\n",
    "print(\"El logaritmo uno vale: {} ({})\".format(log1,float(log1)))\n",
    "print(\"El logaritmo uno vale: {} ({})\".format(log2,float(log2)))\n",
    "print(\"El cociente del logaritmo 1 entre el logaritmo 2 es: {} ({})\".format(cociente,float(cociente)))\n"
   ]
  },
  {
   "cell_type": "code",
   "execution_count": 3,
   "metadata": {
    "collapsed": false
   },
   "outputs": [
    {
     "name": "stdout",
     "output_type": "stream",
     "text": [
      "El logaritmo en base 2 de 64 es: 6 (6.0)\n"
     ]
    }
   ],
   "source": [
    "# Calcula el logaritmo en base 2 de 64\n",
    "\n",
    "\n",
    "logaritmo = log(64, 2)\n",
    "print(\"El logaritmo en base 2 de 64 es: {} ({})\".format(logaritmo, float(logaritmo)))"
   ]
  },
  {
   "cell_type": "code",
   "execution_count": 3,
   "metadata": {
    "collapsed": false
   },
   "outputs": [
    {
     "name": "stdout",
     "output_type": "stream",
     "text": [
      "Observamos que e^iπ sin aproximación π es: -1. \n",
      "Sin embargo, con la aproximación de π, el número es: -1.00000000000000 + 1.22464679914735E-16*I\n"
     ]
    }
   ],
   "source": [
    "# Compara e^iπ con una aproximación numérica, usando pi.n().\n",
    "\n",
    "\n",
    "numero_1 = e ^ (I * pi)\n",
    "\n",
    "aproximacion_pi = pi.n()\n",
    "numero_2 = e ^ (I * aproximacion_pi)\n",
    "\n",
    "print(\"Observamos que e^iπ sin aproximación π es: {}. \\nSin embargo, con la aproximación de π, el número es: {}\".format(numero_1, numero_2))\n"
   ]
  },
  {
   "cell_type": "code",
   "execution_count": 4,
   "metadata": {
    "collapsed": false
   },
   "outputs": [
    {
     "name": "stdout",
     "output_type": "stream",
     "text": [
      "El sin (π/2) = 1 \n",
      "La cot(π/4) = 1 \n",
      "La csc(π/16) = 5.125830895483013\n"
     ]
    }
   ],
   "source": [
    "# Calcula sin (π/2), cot (π/4) i csc (π/16)\n",
    "\n",
    "\n",
    "seno = sin(pi/2)\n",
    "cotangente = cot(pi/4)\n",
    "cosecante = csc(pi/16)\n",
    "\n",
    "print(\"El sin (π/2) = {} \\nLa cot(π/4) = {} \\nLa csc(π/16) = {}\".format(seno, cotangente, float(cosecante)))"
   ]
  },
  {
   "cell_type": "code",
   "execution_count": 0,
   "metadata": {
    "collapsed": false
   },
   "outputs": [
   ],
   "source": [
   ]
  }
 ],
 "metadata": {
  "kernelspec": {
   "argv": [
    "sage-10.1",
    "--python",
    "-m",
    "sage.repl.ipython_kernel",
    "--matplotlib=inline",
    "-f",
    "{connection_file}"
   ],
   "display_name": "SageMath 10.1",
   "env": {
   },
   "language": "sagemath",
   "metadata": {
    "cocalc": {
     "description": "Open-source mathematical software system",
     "priority": 10,
     "url": "https://www.sagemath.org/"
    }
   },
   "name": "sage-10.1",
   "resource_dir": "/ext/jupyter/kernels/sage-10.1"
  },
  "language_info": {
   "codemirror_mode": {
    "name": "ipython",
    "version": 3
   },
   "file_extension": ".py",
   "mimetype": "text/x-python",
   "name": "python",
   "nbconvert_exporter": "python",
   "pygments_lexer": "ipython3",
   "version": "3.11.1"
  }
 },
 "nbformat": 4,
 "nbformat_minor": 4
}